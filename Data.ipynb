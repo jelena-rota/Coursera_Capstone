{
 "cells": [
  {
   "cell_type": "markdown",
   "metadata": {
    "collapsed": true
   },
   "source": [
    "<h2>The Battle of Neighborhoods - Data section</h2>"
   ]
  },
  {
   "cell_type": "markdown",
   "metadata": {},
   "source": [
    "<p>Data used in the project will contain information about 59 neighborhoods in total, 40 Manhattan neighborhoods and 19 Downtown Toronto neighborhoods.</p>"
   ]
  },
  {
   "cell_type": "markdown",
   "metadata": {},
   "source": [
    "Sources used for the data will be:\n",
    "- New York University \n",
    "(https://geo.nyu.edu/catalog/nyu_2451_34572)\n",
    "- Wikipedia\n",
    "(https://en.wikipedia.org/wiki/List_of_postal_codes_of_Canada:_M)\n",
    "- Cognitive Class\n",
    "(http://cocl.us/Geospatial_data)"
   ]
  },
  {
   "cell_type": "markdown",
   "metadata": {},
   "source": [
    "<p>Starting dataframe that needs to be prepared will have 59 rows and 4 columns (borough, neighborhood, latitude, and longitude). </p>\n",
    "<p>It will be used by Foursquare API to explore the neighborhoods and return a json file with certain number of venues based on a defined limit and radius. </p>\n",
    "<p>Resulting json file will be then cleaned and structured into a final dataframe with top 10 venues for each neighborhood. </p>\n",
    "<p>Final dataframe with top 10 venues for each neighborhood will be used to group the neighborhoods into 5 clusters with k-means algorithm. </p>\n",
    "<p>The neighborhoods that find themselves in the same cluster will be the one that are similar. </p>"
   ]
  }
 ],
 "metadata": {
  "kernelspec": {
   "display_name": "Python 3.6",
   "language": "python",
   "name": "python3"
  },
  "language_info": {
   "codemirror_mode": {
    "name": "ipython",
    "version": 3
   },
   "file_extension": ".py",
   "mimetype": "text/x-python",
   "name": "python",
   "nbconvert_exporter": "python",
   "pygments_lexer": "ipython3",
   "version": "3.6.9"
  }
 },
 "nbformat": 4,
 "nbformat_minor": 1
}
