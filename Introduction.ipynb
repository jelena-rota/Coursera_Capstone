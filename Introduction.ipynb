{
 "cells": [
  {
   "cell_type": "markdown",
   "metadata": {
    "collapsed": true
   },
   "source": [
    "<h2>The Battle of Neighborhoods - Introduction/Business Problem</h2>"
   ]
  },
  {
   "cell_type": "markdown",
   "metadata": {},
   "source": [
    "<p>New York City and Toronto are financial capitals of their respective countries and remarkably diverse north American cities. They obviously have similarities, but do they have similar neighborhoods as well? This is what I would like to discover in the project. </p>\n",
    "<p>I will compare and group into clusters the neighborhoods of Manhattan and Downtown Toronto, central boroughs of New York City and Toronto. </p>\n",
    "<p>Manhattan with its 40 neighborhoods is the most densely populated of the five boroughs of New York City and serves as the city's economic and administrative center. </p>\n",
    "<p>Downtown Toronto with its 19 neighborhoods is the main central business district of Toronto with the Canada's largest concentration of skyscrapers and businesses that form Toronto's skyline. \n",
    "<p>I will use the Foursquare API to get the most common venue categories in each of 59 neighborhoods and then group the neighborhoods into clusters with the k-means clustering algorithm. </p>\n",
    "<p>Data necessary for the analysis (borough name, neighborhood name, latitude, and longitude) will be taken from New York University Libraries, Wikipedia, and Cognitive Class website. </p>\n"
   ]
  }
 ],
 "metadata": {
  "kernelspec": {
   "display_name": "Python 3.6",
   "language": "python",
   "name": "python3"
  },
  "language_info": {
   "codemirror_mode": {
    "name": "ipython",
    "version": 3
   },
   "file_extension": ".py",
   "mimetype": "text/x-python",
   "name": "python",
   "nbconvert_exporter": "python",
   "pygments_lexer": "ipython3",
   "version": "3.6.9"
  }
 },
 "nbformat": 4,
 "nbformat_minor": 1
}
